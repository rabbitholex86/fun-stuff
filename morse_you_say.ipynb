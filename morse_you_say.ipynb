{
 "cells": [
  {
   "cell_type": "markdown",
   "id": "66a926c2",
   "metadata": {},
   "source": [
    "## **OldMeetsNew**\n",
    "\n",
    "This is from [Google's 2025 CTF Begginer's quest](https://capturetheflag.withgoogle.com/beginners-quest) titled \"OldMeetsNew\".\n",
    "\n",
    "> \"Does it kind of defeat the purpose of me learning Morse code if I have to send it as a WAV anyway? Especially when the file won't even load properly!\""
   ]
  },
  {
   "cell_type": "code",
   "execution_count": 2,
   "id": "f19dca67",
   "metadata": {},
   "outputs": [
    {
     "name": "stdout",
     "output_type": "stream",
     "text": [
      "bytearray(b'WIFF\\xec\\xa7\\x03\\x00WAVEfmt \\x10\\x00\\x00\\x00\\x01\\x00\\x01\\x00@\\x1f\\x00\\x00@\\x1f\\x00\\x00\\x01\\x00\\x08\\x00data')\n"
     ]
    }
   ],
   "source": [
    "with open(\"uploads/morse_challenge.wav\", \"rb\") as f:\n",
    "    data = bytearray(f.read())\n",
    "\n",
    "print(data[:40])"
   ]
  },
  {
   "cell_type": "markdown",
   "id": "775c3896",
   "metadata": {},
   "source": [
    "WIFF?? They might've meant RIFF. The file container format used to provide the structure for the WAV file. This has been deliberately modified to prevent successful parsing."
   ]
  },
  {
   "cell_type": "code",
   "execution_count": 2,
   "id": "f08c9d52",
   "metadata": {},
   "outputs": [
    {
     "name": "stdout",
     "output_type": "stream",
     "text": [
      "Patched file written to morse_fixed.wav\n"
     ]
    }
   ],
   "source": [
    "data[0:4] = b\"RIFF\"\n",
    "\n",
    "with open(\"misc/morse_fixed.wav\", \"wb\") as f:\n",
    "    f.write(data)\n",
    "\n",
    "print(\"Patched file written to morse_fixed.wav\")"
   ]
  },
  {
   "cell_type": "markdown",
   "id": "d868d764",
   "metadata": {},
   "source": [
    "It's morse!!! Here's what I got\n",
    "\n",
    "`.. / --.. / --. / . / -.-. / .-. / ...-- / ...-- / -. / -... / --.- / -..- / -- / --.. / -.- / --... / -. / --.. / -..- / ...- / -.... / ....- / - / ..-. / -. / ...- / -..- / -..- / . / ....- / ...-- / ..-. / .--. / ..- / -...- / -...- / -...- / -...- / -...- / -...-`"
   ]
  },
  {
   "cell_type": "markdown",
   "id": "8dc4b0d0",
   "metadata": {},
   "source": [
    "I used an [online morse code translator](https://morsecode.world/international/translator.html) and got the result `IZGECR33NBQXMZK7NZXV64TFNVXXE43FPU======`.The flag would've been something like `FLAG{}`. This isn't the flag, which means it must've been encoded some way. Maybe, Base-32. I used an [online Base32 converter](https://emn178.github.io/online-tools/base32_decode.html?input=IZGECR33NBQXMZK7NZXV64TFNVXXE43FPU&output_type=utf-8) and got this!\n",
    "\n",
    "<div style=\"display:flex;\">\n",
    "<img src=\"misc/morse.png\" width=\"500\">\n",
    "<img src=\"misc/base32.png\" width=\"500\">\n",
    "</div>\n",
    "\n",
    "Viola! It's `FLAG{have_no_remorse}`"
   ]
  }
 ],
 "metadata": {
  "kernelspec": {
   "display_name": "Python 3",
   "language": "python",
   "name": "python3"
  },
  "language_info": {
   "codemirror_mode": {
    "name": "ipython",
    "version": 3
   },
   "file_extension": ".py",
   "mimetype": "text/x-python",
   "name": "python",
   "nbconvert_exporter": "python",
   "pygments_lexer": "ipython3",
   "version": "3.13.1"
  }
 },
 "nbformat": 4,
 "nbformat_minor": 5
}
